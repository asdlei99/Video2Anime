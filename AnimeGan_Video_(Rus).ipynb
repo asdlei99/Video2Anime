{
  "nbformat": 4,
  "nbformat_minor": 0,
  "metadata": {
    "colab": {
      "name": "AnimeGan Video (Rus).ipynb",
      "provenance": [],
      "collapsed_sections": [],
      "include_colab_link": true
    },
    "kernelspec": {
      "name": "python3",
      "display_name": "Python 3"
    },
    "accelerator": "GPU"
  },
  "cells": [
    {
      "cell_type": "markdown",
      "metadata": {
        "id": "view-in-github",
        "colab_type": "text"
      },
      "source": [
        "<a href=\"https://colab.research.google.com/github/tg-bomze/Video2Anime/blob/master/AnimeGan_Video_(Rus).ipynb\" target=\"_parent\"><img src=\"https://colab.research.google.com/assets/colab-badge.svg\" alt=\"Open In Colab\"/></a>"
      ]
    },
    {
      "cell_type": "markdown",
      "metadata": {
        "id": "tLSLsHwOnXyr",
        "colab_type": "text"
      },
      "source": [
        "<b><font color=\"black\" size=\"+4\">Конвертер видео в Аниме</font></b>\n",
        "\n",
        "<b><font color=\"black\" size=\"+2\">Базируется на:</font></b>\n",
        "\n",
        "**GitHub репозиторий**: [AnimeGAN](https://github.com/TachibanaYoshino/AnimeGAN)\n",
        "\n",
        "Автор: **[Tachibana Yoshino](https://github.com/TachibanaYoshino).**\n",
        "\n",
        "<b><font color=\"black\" size=\"+2\">Колаб собрал:</font></b>\n",
        "\n",
        "GitHub: [@tg-bomze](https://github.com/tg-bomze),\n",
        "Telegram: [@bomze](https://t.me/bomze),\n",
        "Twitter: [@tg_bomze](https://twitter.com/tg_bomze).\n",
        "\n",
        "\n",
        "\n",
        "```\n",
        "Далее тыкай на кнопки (куда указывает красная стрелка) в каждом блоке поочередно. После нажатия дождись окончания выполнения.\n",
        "```\n",
        "\n",
        "\n",
        "```\n",
        "Если возникают какие-либо ошибки, уберите галочки на delete_log, сделайте скриншот и обратитесь к автору Колаба.\n",
        "```\n",
        "\n",
        "\n",
        "\n"
      ]
    },
    {
      "cell_type": "code",
      "metadata": {
        "id": "MIETFAYBzi7m",
        "colab_type": "code",
        "cellView": "form",
        "colab": {}
      },
      "source": [
        "#@title <b><font color=\"red\" size=\"+3\">←</font><font color=\"black\" size=\"+3\"> Устанавливаем все необходимые компоненты</font></b>\n",
        "!pip install youtube_dl\n",
        "!pip install ffmpeg\n",
        "import imageio\n",
        "import numpy as np\n",
        "import matplotlib.pyplot as plt\n",
        "import matplotlib.animation as animation\n",
        "from IPython.display import clear_output\n",
        "import youtube_dl\n",
        "import io\n",
        "import base64\n",
        "import os\n",
        "import cv2\n",
        "from google.colab import files\n",
        "%matplotlib inline\n",
        "\n",
        "%tensorflow_version 1.x\n",
        "!git clone  https://github.com/TachibanaYoshino/AnimeGAN.git\n",
        "%cd AnimeGAN\n",
        "!wget https://github.com/TachibanaYoshino/AnimeGAN/releases/download/vgg16%2F19.npy/vgg19.npy\n",
        "!wget https://github.com/TachibanaYoshino/AnimeGAN/releases/download/Haoyao-style_V1.0/Haoyao-style.zip\n",
        "!unzip /content/AnimeGAN/Haoyao-style.zip -d pppoint\n",
        "!rm /content/AnimeGAN/Haoyao-style.zip\n",
        "!cp /content/AnimeGAN/vgg19.npy /content/AnimeGAN/vgg19_weight\n",
        "!rm /content/AnimeGAN/vgg19.npy\n",
        "!mkdir img\n",
        "\n",
        "delete_log = True #@param {type:\"boolean\"}\n",
        "if delete_log == True: clear_output()"
      ],
      "execution_count": 0,
      "outputs": []
    },
    {
      "cell_type": "code",
      "metadata": {
        "id": "4stFInt5o1-q",
        "colab_type": "code",
        "cellView": "form",
        "colab": {}
      },
      "source": [
        "#@title <b><font color=\"red\" size=\"+3\">←</font><font color=\"black\" size=\"+3\"> Загрузите видео в формте mp4</font></b>\n",
        "\n",
        "#@markdown *Ниже введите ссылку на видео (например, YouTube или Twitter), либо оставьте поле **source_url** пустым (в таком случае будет предложено загрузить ролик с компьютера).*\n",
        "\n",
        "#@markdown *Тесты проводились на видеозаписях длинною до 1 минуты. Есть вероятность, что большие отрезки могут привести к ошибкам.*\n",
        "source_url = '' #@param {type:\"string\"}\n",
        "\n",
        "if source_url == '':\n",
        "  uploaded = files.upload()\n",
        "  for fn in uploaded.keys():\n",
        "    print('User uploaded file \"{name}\" with length {length} bytes'.format(\n",
        "        name=fn, length=len(uploaded[fn])))\n",
        "  file_name = \"downloaded_video.\" + fn.split(\".\")[1]\n",
        "  !mv -f $fn $file_name\n",
        "\n",
        "else:\n",
        "  try:\n",
        "    ydl_opts = {\n",
        "        'format': 'bestvideo[ext=mp4]+bestaudio[ext=m4a]/mp4',\n",
        "        'outtmpl': 'downloaded_video.mp4',\n",
        "        }\n",
        "    with youtube_dl.YoutubeDL(ydl_opts) as ydl:\n",
        "      ydl.download([source_url])\n",
        "    file_name = 'downloaded_video.mp4'\n",
        "  \n",
        "  except BaseException:\n",
        "    !wget $source_url\n",
        "    fn = source_url.split('/')[-1]\n",
        "    file_name = \"downloaded_video.\" + fn.split(\".\")[1]\n",
        "    !mv -f $fn $file_name\n",
        "\n",
        "!cp -r downloaded_video.mp4 video.mp4\n",
        "!rm -rf img\n",
        "!mkdir img\n",
        "clear_output()\n",
        "fps_of_video = int(cv2.VideoCapture(file_name).get(cv2.CAP_PROP_FPS))\n",
        "frames_of_video = int(cv2.VideoCapture(file_name).get(cv2.CAP_PROP_FRAME_COUNT))\n",
        "\n",
        "delete_log = True #@param {type:\"boolean\"}\n",
        "if delete_log == True: clear_output()\n",
        "#@markdown *При необходимости конвертировать видео в mp4 можно тут: https://convert-video-online.com*\n",
        "\n",
        "#@markdown *Если при загрузки файла с компьютера возникнет ошибка, то запустите этот блок заново. Помимо этого не рекомендуется загружать видео, в названии которых есть пробелы.*"
      ],
      "execution_count": 0,
      "outputs": []
    },
    {
      "cell_type": "code",
      "metadata": {
        "id": "yhNQSoQspHR7",
        "colab_type": "code",
        "cellView": "form",
        "colab": {}
      },
      "source": [
        "#@title <b><font color=\"red\" size=\"+3\">←</font><font color=\"black\" size=\"+3\"> Разбиваем видео на кадры</font></b>\n",
        "\n",
        "vidcap = cv2.VideoCapture(file_name)\n",
        "success,image = vidcap.read()\n",
        "count = 0\n",
        "success = True\n",
        "while success:\n",
        "  cv2.imwrite(\"img/frame%09d.jpg\" % count, image)\n",
        "  success,image = vidcap.read()\n",
        "  count += 1"
      ],
      "execution_count": 0,
      "outputs": []
    },
    {
      "cell_type": "code",
      "metadata": {
        "id": "SNBkXnhGoKuC",
        "colab_type": "code",
        "cellView": "form",
        "colab": {}
      },
      "source": [
        "#@title <b><font color=\"red\" size=\"+3\">←</font><font color=\"black\" size=\"+3\"> Запускаем конвертацию в аниме</font></b>\n",
        "\n",
        "!python test.py --checkpoint_dir /content/AnimeGAN/pppoint --test_dir /content/AnimeGAN/img --style_name H\n",
        "delete_log = True #@param {type:\"boolean\"}\n",
        "if delete_log == True: clear_output()"
      ],
      "execution_count": 0,
      "outputs": []
    },
    {
      "cell_type": "code",
      "metadata": {
        "id": "14SymledtA4c",
        "colab_type": "code",
        "cellView": "form",
        "colab": {}
      },
      "source": [
        "#@title <b><font color=\"red\" size=\"+3\">←</font><font color=\"black\" size=\"+3\"> Собираем кадры в видео</font></b>\n",
        "\n",
        "frames = []\n",
        "img = os.listdir(\"results/H/\")\n",
        "img.sort()\n",
        "for i in img:\n",
        "  frames.append(imageio.imread(\"results/H/\"+i))\n",
        "frames = np.array(frames)\n",
        "imageio.mimsave(\"final.mp4\", frames, fps=fps_of_video)\n",
        "!ffmpeg -i downloaded_video.mp4 -vn -ar 44100 -ac 2 -ab 192K -f mp3 sound.mp3\n",
        "!ffmpeg -i sound.mp3 -i final.mp4 final_audio.mp4\n",
        "\n",
        "print('Сборка завершена')\n",
        "delete_log = True #@param {type:\"boolean\"}\n",
        "if delete_log == True: clear_output()"
      ],
      "execution_count": 0,
      "outputs": []
    },
    {
      "cell_type": "code",
      "metadata": {
        "id": "Yxl4IRhX0gWY",
        "colab_type": "code",
        "cellView": "form",
        "colab": {}
      },
      "source": [
        "#@title <b><font color=\"red\" size=\"+3\">←</font><font color=\"black\" size=\"+3\"> Скачать итоговое видео</font></b>\n",
        "files.download(\"final_audio.mp4\")"
      ],
      "execution_count": 0,
      "outputs": []
    }
  ]
}